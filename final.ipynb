{
  "nbformat": 4,
  "nbformat_minor": 0,
  "metadata": {
    "colab": {
      "provenance": []
    },
    "kernelspec": {
      "name": "python3",
      "display_name": "Python 3"
    },
    "language_info": {
      "name": "python"
    }
  },
  "cells": [
    {
      "cell_type": "code",
      "execution_count": 3,
      "metadata": {
        "colab": {
          "base_uri": "https://localhost:8080/"
        },
        "id": "0_GzLeYtDQHc",
        "outputId": "f9e3727d-6465-42e5-c24b-9931c4483ee5"
      },
      "outputs": [
        {
          "output_type": "stream",
          "name": "stdout",
          "text": [
            "Howdy Planet!\n"
          ]
        }
      ],
      "source": [
        "def howdy_planet():\n",
        "    print(\"Howdy Planet!\")\n",
        "\n",
        "# Call the function to see the output\n",
        "howdy_planet()\n"
      ]
    },
    {
      "cell_type": "code",
      "source": [
        "directions = [\"North\", \"South\", \"East\", \"West\"]"
      ],
      "metadata": {
        "id": "At0lyV0zKXZ-"
      },
      "execution_count": 7,
      "outputs": []
    },
    {
      "cell_type": "code",
      "source": [
        "for direction in directions:\n",
        "    print(direction)"
      ],
      "metadata": {
        "colab": {
          "base_uri": "https://localhost:8080/"
        },
        "id": "oCHhOoM1KbP-",
        "outputId": "628c4b3e-2fb1-4438-e0b9-feb2b4f9e33d"
      },
      "execution_count": 5,
      "outputs": [
        {
          "output_type": "stream",
          "name": "stdout",
          "text": [
            "North\n",
            "South\n",
            "East\n",
            "West\n"
          ]
        }
      ]
    },
    {
      "cell_type": "code",
      "source": [],
      "metadata": {
        "id": "jbQHpA89Knqq"
      },
      "execution_count": null,
      "outputs": []
    }
  ]
}